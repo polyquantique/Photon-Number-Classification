{
 "cells": [
  {
   "cell_type": "code",
   "execution_count": null,
   "metadata": {},
   "outputs": [],
   "source": [
    "import matplotlib.pyplot as plt\n",
    "import polars as pl\n",
    "\n",
    "from src.Parametric_UMAP import PUMAP, load_pumap\n",
    "import torch.nn.functional as F\n",
    "import torch"
   ]
  },
  {
   "cell_type": "code",
   "execution_count": null,
   "metadata": {},
   "outputs": [],
   "source": [
    "PATH_SAVE_LD = 'src/Results_Uniform/Low Dimension'\n",
    "PATH_SAVE_D = 'src/Results_Uniform/Density'\n",
    "PATH_RESULTS = 'src/Results_Uniform'\n",
    "PATH_DATA = '/home/nicolasdc/Documents/Datasets/Photon-Number-Classification/NIST CSV'\n",
    "\n",
    "data_train = pl.read_csv(f'{PATH_DATA}/uniform_train.csv', has_header=False, separator=\",\").to_numpy()\n",
    "data_test = pl.read_csv(f'{PATH_DATA}/uniform_test.csv', has_header=False, separator=\",\").to_numpy()\n",
    "expected_prob = pl.read_csv(f'{PATH_DATA}/uniform_expected_prob.csv', has_header=False, separator=\",\").to_numpy()\n",
    "db_train = pl.read_csv(f'{PATH_DATA}/db_train.csv', has_header=False, separator=\",\").to_numpy()\n",
    "db_test = pl.read_csv(f'{PATH_DATA}/db_test.csv', has_header=False, separator=\",\").to_numpy()"
   ]
  },
  {
   "cell_type": "code",
   "execution_count": null,
   "metadata": {},
   "outputs": [],
   "source": [
    "pumap = PUMAP(\n",
    "        encoder=None,         \n",
    "        decoder=None,          \n",
    "        n_neighbors=30, #30\n",
    "        min_dist=0.15, #0.15\n",
    "        metric=\"euclidean\",\n",
    "        n_components=1,\n",
    "        beta=0, # How much to weigh reconstruction loss for decoder\n",
    "        reconstruction_loss=F.binary_cross_entropy_with_logits, # pass in custom reconstruction loss functions\n",
    "        random_state=None,\n",
    "        lr=1e-4,\n",
    "        epochs = 50,\n",
    "        batch_size=5000, \n",
    "        num_workers=31,\n",
    "        num_gpus=1,\n",
    "        match_nonparametric_umap=False # Train network to match embeddings from non parametric umap\n",
    ")\n",
    "\n",
    "pumap.fit(torch.from_numpy(data_train).view(-1,350).to(dtype=torch.float))"
   ]
  },
  {
   "cell_type": "code",
   "execution_count": null,
   "metadata": {},
   "outputs": [],
   "source": [
    "model = load_pumap(f'lightning_logs/version_2/checkpoints/epoch=29-step=210.ckpt').to('cpu')\n",
    "\n",
    "\n",
    "embedding = model.encoder(torch.from_numpy(data_test).view(-1,350).to(dtype=torch.float)) # (50000, 2)\n",
    "\n",
    "plt.hist(embedding.detach().numpy().flatten(), bins=1000)\n",
    "plt.yscale('log')\n",
    "plt.show()"
   ]
  }
 ],
 "metadata": {
  "kernelspec": {
   "display_name": "ML",
   "language": "python",
   "name": "python3"
  },
  "language_info": {
   "codemirror_mode": {
    "name": "ipython",
    "version": 3
   },
   "file_extension": ".py",
   "mimetype": "text/x-python",
   "name": "python",
   "nbconvert_exporter": "python",
   "pygments_lexer": "ipython3",
   "version": "3.12.7"
  }
 },
 "nbformat": 4,
 "nbformat_minor": 4
}
