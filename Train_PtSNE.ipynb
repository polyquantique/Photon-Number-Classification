{
 "cells": [
  {
   "cell_type": "code",
   "execution_count": 9,
   "metadata": {},
   "outputs": [],
   "source": [
    "import torch\n",
    "import polars as pl\n",
    "import matplotlib.pyplot as plt\n",
    "import numpy as np\n",
    "\n",
    "from src.Parametric_TSNE import train_ptsne, plot_results, Network\n",
    "from src.GaussianMixture import gaussian_mixture"
   ]
  },
  {
   "cell_type": "code",
   "execution_count": 2,
   "metadata": {},
   "outputs": [],
   "source": [
    "PATH_SAVE_LD = 'src/Results_Uniform/Low Dimension'\n",
    "PATH_SAVE_D = 'src/Results_Uniform/Density'\n",
    "PATH_RESULTS = 'src/Results_Uniform'\n",
    "PATH_DATA = '/home/nicolasdc/Documents/Datasets/Photon-Number-Classification/NIST CSV'\n",
    "\n",
    "data_train = pl.read_csv(f'{PATH_DATA}/uniform_train.csv', has_header=False, separator=\",\").to_numpy()\n",
    "data_test = pl.read_csv(f'{PATH_DATA}/uniform_test.csv', has_header=False, separator=\",\").to_numpy()\n",
    "expected_prob = pl.read_csv(f'{PATH_DATA}/uniform_expected_prob.csv', has_header=False, separator=\",\").to_numpy()\n",
    "db_train = pl.read_csv(f'{PATH_DATA}/db_train.csv', has_header=False, separator=\",\").to_numpy()\n",
    "db_test = pl.read_csv(f'{PATH_DATA}/db_test.csv', has_header=False, separator=\",\").to_numpy()"
   ]
  },
  {
   "cell_type": "code",
   "execution_count": null,
   "metadata": {},
   "outputs": [],
   "source": [
    "params = {\n",
    "'network' : {\n",
    "    'dim_input' : 350,\n",
    "    'dim_emb' : 1\n",
    "    },\n",
    "'tSNE' : {\n",
    "    'perplexity' : 10,\n",
    "    'early_exaggeration' : 4,\n",
    "    'early_exaggeration_constant' : 12,\n",
    "    'dist_func_name' : 'euc',\n",
    "    'bin_search_tol' : 1e-5,\n",
    "    'bin_search_max_iter' : 300,\n",
    "    'min_allowed_sig_sq' : 0,\n",
    "    'max_allowed_sig_sq' : 1000,\n",
    "    },\n",
    "'training' : {\n",
    "    'n_epochs' : 1000,\n",
    "    'learning_rate' : 0.001,\n",
    "    'alpha_pos' : 0,\n",
    "    'alpha_l1' : 0,\n",
    "    'alpha_KL' : 1,\n",
    "    'size_gauss' : 4,\n",
    "    'batch_size' : 3_000,\n",
    "    'n_cluster' : 30\n",
    "    }\n",
    "}\n",
    "\n",
    "model = Network(**params['network'])\n",
    "\n",
    "train_ptsne(\n",
    "            X_high = data_train[:30_000],\n",
    "            # Model\n",
    "            model = model,\n",
    "            # Params\n",
    "            params = params,\n",
    "            # Training\n",
    "            **params['training'],\n",
    "            # Files\n",
    "            model_name = f'test 6',\n",
    "            dev = 'cpu',\n",
    "            save_dir_path = 'src/Models/Sweep 1D thermal',\n",
    "            # t-SNE\n",
    "            **params['tSNE'],\n",
    "            # Display load\n",
    "            verbose = True\n",
    "            )"
   ]
  },
  {
   "cell_type": "code",
   "execution_count": null,
   "metadata": {},
   "outputs": [],
   "source": [
    "plot_results(model,\n",
    "            folder_name = 'src/Models/Sweep 1D thermal',\n",
    "            model_name = 'test 6')"
   ]
  },
  {
   "cell_type": "code",
   "execution_count": null,
   "metadata": {},
   "outputs": [
    {
     "name": "stdout",
     "output_type": "stream",
     "text": [
      "test 6\n"
     ]
    }
   ],
   "source": [
    "folder_name = 'src/Models/Sweep 1D thermal'\n",
    "model_name = 'test 6'#file_\n",
    "n_cluster = 30\n",
    "X_ = np.linspace(0,1,1000)\n",
    "\n",
    "\n",
    "print(model_name)\n",
    "\n",
    "train_dl = torch.from_numpy(data_test).view(-1, 350).float()\n",
    "train_dl = (train_dl - train_dl.min()) / (train_dl.max() - train_dl.min())\n",
    "folder_name = f'{folder_name}/{model_name}'\n",
    "model.load_state_dict(torch.load(f'{folder_name}/model.pt', weights_only=True))\n",
    "model = model.to(torch.device('cpu'))\n",
    "model.eval()\n",
    "\n",
    "emb, reconst = model(train_dl, both=True)\n",
    "emb_ = (emb - emb.min()) / (emb.max() - emb.min())\n",
    "\n",
    "means = torch.linspace(0,1,n_cluster)\n",
    "std = 1 / (2*n_cluster)\n",
    "emb_net = emb_[:,0].view(-1,1)\n",
    "desired_dist = 1.5 - torch.sum(torch.exp(- 0.5 * ((emb_net - means) / std) ** 2), dim=1)\n",
    "\n",
    "with plt.style.context(\"seaborn-v0_8\"):\n",
    "\n",
    "    plt.figure(figsize=(8,4))\n",
    "    emb_ = emb_.detach().numpy()\n",
    "    plt.hist(emb_, alpha=0.8, bins=2000)\n",
    "    plt.scatter(emb_[:,0], desired_dist.detach().numpy(), s=1)\n",
    "    plt.yscale('log')\n",
    "    plt.show()\n"
   ]
  }
 ],
 "metadata": {
  "kernelspec": {
   "display_name": "ML",
   "language": "python",
   "name": "python3"
  },
  "language_info": {
   "codemirror_mode": {
    "name": "ipython",
    "version": 3
   },
   "file_extension": ".py",
   "mimetype": "text/x-python",
   "name": "python",
   "nbconvert_exporter": "python",
   "pygments_lexer": "ipython3",
   "version": "3.12.7"
  }
 },
 "nbformat": 4,
 "nbformat_minor": 2
}
